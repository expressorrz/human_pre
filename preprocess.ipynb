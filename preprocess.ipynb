{
 "cells": [
  {
   "cell_type": "code",
   "execution_count": 1,
   "metadata": {},
   "outputs": [],
   "source": [
    "import os\n",
    "import numpy as np\n",
    "import pandas as pd"
   ]
  },
  {
   "cell_type": "code",
   "execution_count": 2,
   "metadata": {},
   "outputs": [
    {
     "name": "stdout",
     "output_type": "stream",
     "text": [
      "C001-A001 data shape: (1281, 75, 75)\n",
      "C002-A001 data shape: (1261, 75, 75)\n",
      "C003-A001 data shape: (1271, 75, 75)\n"
     ]
    }
   ],
   "source": [
    "perspective_id_list = ['C001', 'C002', 'C003']\n",
    "action_id_list = ['A001']\n",
    "\n",
    "for perspective_id in perspective_id_list:\n",
    "    for action_id in action_id_list:\n",
    "        file_name = os.listdir(f'raw_dataset/{perspective_id}/{action_id}')\n",
    "        # load dateset\n",
    "        data_list = []\n",
    "        for item in file_name:\n",
    "            df = pd.read_csv(f'raw_dataset/{perspective_id}/{action_id}/{item}')\n",
    "            data_list.append(df.to_numpy()[:, 1:])\n",
    "\n",
    "        data = np.array(data_list)\n",
    "        print(f'{perspective_id}-{action_id} data shape:', data.shape)\n",
    "\n",
    "        np.save(f'dataset/{perspective_id}/{action_id}.npy', data)"
   ]
  }
 ],
 "metadata": {
  "kernelspec": {
   "display_name": "pytorch",
   "language": "python",
   "name": "python3"
  },
  "language_info": {
   "codemirror_mode": {
    "name": "ipython",
    "version": 3
   },
   "file_extension": ".py",
   "mimetype": "text/x-python",
   "name": "python",
   "nbconvert_exporter": "python",
   "pygments_lexer": "ipython3",
   "version": "3.8.18"
  }
 },
 "nbformat": 4,
 "nbformat_minor": 2
}
