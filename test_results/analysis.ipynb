{
 "cells": [
  {
   "cell_type": "code",
   "execution_count": 9,
   "metadata": {},
   "outputs": [],
   "source": [
    "import numpy as np\n",
    "import matplotlib.pyplot as plt\n",
    "from matplotlib import rcParams\n",
    "\n",
    "configs = {\n",
    "    \"font.size\": 20,\n",
    "    \"font.family\": \"Times New Roman\",\n",
    "}\n",
    "\n",
    "rcParams.update(configs)\n",
    "\n",
    "%matplotlib inline\n",
    "%config InlineBackend.figure_format = 'svg'"
   ]
  },
  {
   "cell_type": "code",
   "execution_count": 10,
   "metadata": {},
   "outputs": [
    {
     "name": "stdout",
     "output_type": "stream",
     "text": [
      "Model Name: MLP\n",
      "MAE:0.20774759352207184, RMSE:0.31657105684280396, MAPE:1.851189136505127, MPJPE:0.4411357045173645\n",
      "Model Name: CNN\n",
      "MAE:0.0765710100531578, RMSE:0.16810432076454163, MAPE:0.4810735583305359, MPJPE:0.16037985682487488\n",
      "Model Name: GRU\n",
      "MAE:0.03294995054602623, RMSE:0.05422740802168846, MAPE:0.22517558932304382, MPJPE:0.0674685686826706\n",
      "Model Name: LSTM\n",
      "MAE:0.03380626440048218, RMSE:0.07374304533004761, MAPE:0.2285350263118744, MPJPE:0.06991969794034958\n",
      "Model Name: Transformer\n",
      "MAE:0.4099440574645996, RMSE:0.6524617671966553, MAPE:2.696728229522705, MPJPE:0.8988982439041138\n",
      "Model Name: ST_Transformer\n",
      "MAE:0.05247858911752701, RMSE:0.08454380184412003, MAPE:0.5428816676139832, MPJPE:0.10829081386327744\n"
     ]
    }
   ],
   "source": [
    "# load the resutls\n",
    "model_name_list = ['MLP', 'CNN', 'GRU', 'LSTM', 'Transformer', 'ST_Transformer']\n",
    "\n",
    "for model_name in model_name_list:\n",
    "\n",
    "    true_data = np.load(f'{model_name}/y_data.npy')\n",
    "    predict_data = np.load(f'{model_name}/predict_data.npy')\n",
    "    scalar = np.load(f'{model_name}/scalar.npy')\n",
    "\n",
    "    temp_true = true_data.reshape(-1, 75)\n",
    "    temp_pred = predict_data.reshape(-1, 75)\n",
    "\n",
    "    # compute the mae, rmse, mape\n",
    "    mae = np.mean(np.abs(true_data - predict_data))\n",
    "    rmse = np.sqrt(np.mean(np.square(true_data - predict_data)))\n",
    "    mape = np.mean(np.abs((true_data - predict_data) / true_data))\n",
    "\n",
    "    temp_true3 = true_data.reshape(-1, 25, 3)\n",
    "    temp_pred3 = predict_data.reshape(-1, 25, 3)\n",
    "\n",
    "    mpjpe = np.mean(np.sqrt(np.sum(np.square(temp_true3 - temp_pred3), axis=2)))\n",
    "\n",
    "    print(f'Model Name: {model_name}\\nMAE:{mae}, RMSE:{rmse}, MAPE:{mape}, MPJPE:{mpjpe}')\n"
   ]
  }
 ],
 "metadata": {
  "kernelspec": {
   "display_name": "pytorch",
   "language": "python",
   "name": "python3"
  },
  "language_info": {
   "codemirror_mode": {
    "name": "ipython",
    "version": 3
   },
   "file_extension": ".py",
   "mimetype": "text/x-python",
   "name": "python",
   "nbconvert_exporter": "python",
   "pygments_lexer": "ipython3",
   "version": "3.8.18"
  }
 },
 "nbformat": 4,
 "nbformat_minor": 2
}
