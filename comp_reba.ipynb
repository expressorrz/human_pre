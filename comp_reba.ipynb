{
 "cells": [
  {
   "cell_type": "code",
   "execution_count": null,
   "metadata": {},
   "outputs": [],
   "source": [
    "import numpy as np\n",
    "import matplotlib.pyplot as plt\n",
    "from matplotlib import rcParams\n",
    "\n",
    "configs = {\n",
    "    \"font.size\": 20,\n",
    "    \"font.family\": \"Times New Roman\",\n",
    "}\n",
    "\n",
    "rcParams.update(configs)\n",
    "\n",
    "%matplotlib inline\n",
    "%config InlineBackend.figure_format = 'svg'"
   ]
  },
  {
   "cell_type": "code",
   "execution_count": null,
   "metadata": {},
   "outputs": [],
   "source": [
    "# load the resutls\n",
    "model_name_list = ['MLP', 'CNN', 'GRU', 'LSTM', 'BiLSTM', 'Transformer', 'ST_Transformer']\n",
    "\n",
    "for model_name in model_name_list:\n",
    "\n",
    "    true_data = np.load(f'./test_results/{model_name}/y_data.npy')\n",
    "    predict_data = np.load(f'./test_results/{model_name}/predict_data.npy')\n",
    "    scalar = np.load(f'./test_results/{model_name}/scalar.npy')\n",
    "\n",
    "    temp_true = true_data.reshape(-1, 75)\n",
    "    temp_pred = predict_data.reshape(-1, 75)\n",
    "\n",
    "    # compute the mae, rmse, mape\n",
    "    mae = np.mean(np.abs(true_data - predict_data))\n",
    "    rmse = np.sqrt(np.mean(np.square(true_data - predict_data)))\n",
    "    mape = np.mean(np.abs((true_data - predict_data) / true_data))\n",
    "\n",
    "    temp_true3 = true_data.reshape(-1, 25, 3)\n",
    "    temp_pred3 = predict_data.reshape(-1, 25, 3)\n",
    "\n",
    "    mpjpe = np.mean(np.sqrt(np.sum(np.square(temp_true3 - temp_pred3), axis=2)))\n",
    "\n",
    "    print(f'Model Name: {model_name}\\nMAE:{mae}, RMSE:{rmse}, MAPE:{mape}, MPJPE:{mpjpe}')\n"
   ]
  }
 ],
 "metadata": {
  "kernelspec": {
   "display_name": "pytorch",
   "language": "python",
   "name": "python3"
  },
  "language_info": {
   "name": "python",
   "version": "3.8.18"
  }
 },
 "nbformat": 4,
 "nbformat_minor": 2
}
